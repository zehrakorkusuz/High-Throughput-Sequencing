{
 "cells": [
  {
   "cell_type": "markdown",
   "metadata": {},
   "source": [
    "# SIV - Lab1 - part b: Introduction to Numpy and Pandas\n",
    "\n",
    "The following tutorial contains examples of using the numpy and pandas library modules. \n",
    "\n",
    "NUMPY<br>\n",
    "NumPy stands for Numerical Python.\n",
    "NumPy is a Python library used for working with arrays.\n",
    "It also has functions for working in domain of linear algebra, fourier transform, and matrices.\n",
    "NumPy was created in 2005 by Travis Oliphant. It is an open source project and you can use it freely.\n",
    "You can easly demonstrate that processing using numpy is faster than normal array processing using Python,\n",
    "that becames interesting with big arrays (processing of an array with 1ML items is 10 time faster)\n",
    "\n",
    "PANDAS<br>\n",
    "Pandas is a library for data analysis.\n",
    "<br><br>\n",
    "It is quite easy to install them using pip.\n"
   ]
  },
  {
   "cell_type": "markdown",
   "metadata": {},
   "source": [
    "## 2.1 Introduction to Numpy\n",
    "\n",
    "Numpy, which stands for numerical Python, is a Python library package to support numerical computations. The basic data structure in numpy is a multi-dimensional array object called ndarray. Numpy provides a suite of functions that can efficiently manipulate elements of the ndarray. \n",
    "\n",
    "### 2.1.1 Creating ndarray\n",
    "\n",
    "An ndarray can be created from a list or a tuple object as shown in the examples below. It is possible to create a 1-dimensional or multi-dimensional array from the list objects as well as tuples."
   ]
  },
  {
   "cell_type": "code",
   "execution_count": 1,
   "metadata": {},
   "outputs": [
    {
     "name": "stdout",
     "output_type": "stream",
     "text": [
      "[1. 2. 3. 4. 5.]\n",
      "#Dimensions = 1\n",
      "Dimension = (5,)\n",
      "Size = 5\n",
      "Array type = float64 \n",
      "\n",
      "[[1 2]\n",
      " [3 4]\n",
      " [5 6]\n",
      " [7 8]]\n",
      "#Dimensions = 2\n",
      "Dimension = (4, 2)\n",
      "Size = 8\n",
      "Array type = int64 \n",
      "\n",
      "[['1' 'a' '3.0']\n",
      " ['2' 'b' '3.5']]\n",
      "#Dimensions = 2\n",
      "Dimension = (2, 3)\n",
      "Size = 6\n",
      "Array type = <U32 \n",
      "\n"
     ]
    }
   ],
   "source": [
    "import numpy as np\n",
    "\n",
    "oneDim = np.array([1.0,2,3,4,5])   # a 1-dimensional array (vector)\n",
    "print(oneDim)\n",
    "print(\"#Dimensions =\", oneDim.ndim)\n",
    "print(\"Dimension =\", oneDim.shape)\n",
    "print(\"Size =\", oneDim.size)\n",
    "print(\"Array type =\", oneDim.dtype, '\\n')\n",
    "\n",
    "twoDim = np.array([[1,2],[3,4],[5,6],[7,8]])  # a two-dimensional array (matrix)\n",
    "print(twoDim)\n",
    "print(\"#Dimensions =\", twoDim.ndim)\n",
    "print(\"Dimension =\", twoDim.shape)\n",
    "print(\"Size =\", twoDim.size)\n",
    "print(\"Array type =\", twoDim.dtype, '\\n')\n",
    "\n",
    "arrFromTuple = np.array([(1,'a',3.0),(2,'b',3.5)])  # create ndarray from tuple\n",
    "print(arrFromTuple)\n",
    "print(\"#Dimensions =\", arrFromTuple.ndim)\n",
    "print(\"Dimension =\", arrFromTuple.shape)\n",
    "print(\"Size =\", arrFromTuple.size)\n",
    "print(\"Array type =\", arrFromTuple.dtype, '\\n')\n",
    "# for information about compound dataypes please check https://numpy.org/devdocs/reference/arrays.dtypes.html\n",
    "# in particular <U32 means that the content is a little-endian 32 character string\n",
    "\n"
   ]
  },
  {
   "cell_type": "markdown",
   "metadata": {},
   "source": [
    "There are also built-in functions available in numpy to create the ndarrays. "
   ]
  },
  {
   "cell_type": "code",
   "execution_count": 2,
   "metadata": {},
   "outputs": [
    {
     "name": "stdout",
     "output_type": "stream",
     "text": [
      "Array of random numbers from a uniform distribution\n",
      "[0.91395099 0.37758679 0.26806621 0.89794918 0.50088739]\n",
      "\n",
      "Array of random numbers from a normal distribution\n",
      "[0.28276151 0.85535314 0.62299067 0.12617011 0.76157077]\n",
      "\n",
      "Array of integers between -10 and 10, with step size of 2\n",
      "[-10  -8  -6  -4  -2   0   2   4   6   8]\n",
      "\n",
      "2-dimensional array of integers from 0 to 11\n",
      "[[ 0  1  2  3]\n",
      " [ 4  5  6  7]\n",
      " [ 8  9 10 11]]\n",
      "\n",
      "Array of values between 0 and 1, split into 10 equally spaced values\n",
      "[0.         0.11111111 0.22222222 0.33333333 0.44444444 0.55555556\n",
      " 0.66666667 0.77777778 0.88888889 1.        ]\n",
      "\n",
      "Array of values from 10^-3 to 10^3\n",
      "[1.e-03 1.e-02 1.e-01 1.e+00 1.e+01 1.e+02 1.e+03]\n"
     ]
    }
   ],
   "source": [
    "print('Array of random numbers from a uniform distribution')\n",
    "print(np.random.rand(5))      # random numbers from a uniform distribution between [0,1]\n",
    "\n",
    "print('\\nArray of random numbers from a normal distribution')\n",
    "print(np.random.randn(5))     # random numbers from a normal distribution\n",
    "\n",
    "print('\\nArray of integers between -10 and 10, with step size of 2')\n",
    "print(np.arange(-10,10,2))    # similar to range, but returns ndarray instead of list\n",
    "\n",
    "print('\\n2-dimensional array of integers from 0 to 11')\n",
    "print(np.arange(12).reshape(3,4))  # reshape to a matrix\n",
    "\n",
    "print('\\nArray of values between 0 and 1, split into 10 equally spaced values')\n",
    "print(np.linspace(0,1,10))    # split interval [0,1] into 10 equally separated values\n",
    "\n",
    "print('\\nArray of values from 10^-3 to 10^3')\n",
    "print(np.logspace(-3,3,7))    # create ndarray with values from 10^-3 to 10^3"
   ]
  },
  {
   "cell_type": "code",
   "execution_count": 3,
   "metadata": {},
   "outputs": [
    {
     "name": "stdout",
     "output_type": "stream",
     "text": [
      "A 2 x 3 matrix of zeros\n",
      "[[0. 0. 0.]\n",
      " [0. 0. 0.]]\n",
      "\n",
      "A 3 x 2 matrix of ones\n",
      "[[1. 1.]\n",
      " [1. 1.]\n",
      " [1. 1.]]\n",
      "\n",
      "A 3 x 3 identity matrix\n",
      "[[1. 0. 0.]\n",
      " [0. 1. 0.]\n",
      " [0. 0. 1.]]\n"
     ]
    }
   ],
   "source": [
    "print('A 2 x 3 matrix of zeros')\n",
    "print(np.zeros((2,3)))        # a matrix of zeros\n",
    "\n",
    "print('\\nA 3 x 2 matrix of ones')\n",
    "print(np.ones((3,2)))         # a matrix of ones\n",
    "\n",
    "print('\\nA 3 x 3 identity matrix')\n",
    "print(np.eye(3))              # a 3 x 3 identity matrix"
   ]
  },
  {
   "cell_type": "markdown",
   "metadata": {},
   "source": [
    "## 2.1.2 Element-wise Operations\n",
    "\n",
    "You can apply standard operators such as addition and multiplication on each element of the ndarray."
   ]
  },
  {
   "cell_type": "code",
   "execution_count": 4,
   "metadata": {},
   "outputs": [
    {
     "name": "stdout",
     "output_type": "stream",
     "text": [
      "x = [1 2 3 4 5]\n",
      "x + 1 = [2 3 4 5 6]\n",
      "x - 1 = [0 1 2 3 4]\n",
      "x * 2 = [ 2  4  6  8 10]\n",
      "x // 2 = [0 1 1 2 2]\n",
      "x ** 2 = [ 1  4  9 16 25]\n",
      "x % 2 = [1 0 1 0 1]\n",
      "1 / x = [1.         0.5        0.33333333 0.25       0.2       ]\n"
     ]
    }
   ],
   "source": [
    "x = np.array([1,2,3,4,5])\n",
    "\n",
    "print('x =', x)\n",
    "print('x + 1 =', x + 1)      # addition\n",
    "print('x - 1 =', x - 1)      # subtraction\n",
    "print('x * 2 =', x * 2)      # multiplication\n",
    "print('x // 2 =', x // 2)     # integer division\n",
    "print('x ** 2 =', x ** 2)     # square\n",
    "print('x % 2 =', x % 2)      # modulo  \n",
    "print('1 / x =', 1 / x)      # division"
   ]
  },
  {
   "cell_type": "code",
   "execution_count": 5,
   "metadata": {},
   "outputs": [
    {
     "name": "stdout",
     "output_type": "stream",
     "text": [
      "x = [ 2  4  6  8 10]\n",
      "y = [1 2 3 4 5]\n",
      "x + y = [ 3  6  9 12 15]\n",
      "x - y = [1 2 3 4 5]\n",
      "x * y = [ 2  8 18 32 50]\n",
      "x / y = [2. 2. 2. 2. 2.]\n",
      "x // y = [2 2 2 2 2]\n",
      "x ** y = [     2     16    216   4096 100000]\n"
     ]
    }
   ],
   "source": [
    "x = np.array([2,4,6,8,10])\n",
    "y = np.array([1,2,3,4,5])\n",
    "\n",
    "print('x =', x)\n",
    "print('y =', y)\n",
    "print('x + y =', x + y)      # element-wise addition\n",
    "print('x - y =', x - y)      # element-wise subtraction\n",
    "print('x * y =', x * y)      # element-wise multiplication \n",
    "print('x / y =', x / y)      # element-wise division\n",
    "print('x // y =', x // y)    # element-wise integer division \n",
    "print('x ** y =', x ** y)    # element-wise exponentiation"
   ]
  },
  {
   "cell_type": "markdown",
   "metadata": {},
   "source": [
    "## 2.1.3 Indexing and Slicing\n",
    "\n",
    "There are various ways to select a subset of elements within a numpy array. Assigning a numpy array (or a subset of its elements) to another variable will simply pass a reference to the array instead of copying its values. To make a copy of an ndarray, you need to explicitly call the .copy() function."
   ]
  },
  {
   "cell_type": "code",
   "execution_count": 6,
   "metadata": {},
   "outputs": [
    {
     "name": "stdout",
     "output_type": "stream",
     "text": [
      "Before: x = [-5 -4 -3 -2 -1  0  1  2  3  4]\n",
      "        y = [-2 -1]\n",
      "After : y = [1000 1000]\n",
      "        x = [  -5   -4   -3 1000 1000    0    1    2    3    4] \n",
      "\n",
      "Before: x = [  -5   -4   -3 1000 1000    0    1    2    3    4]\n",
      "        z = [1000 1000]\n",
      "After : z = [500 500]\n",
      "        x = [  -5   -4   -3 1000 1000    0    1    2    3    4]\n"
     ]
    }
   ],
   "source": [
    "x = np.arange(-5,5)\n",
    "print('Before: x =', x)\n",
    "\n",
    "y = x[3:5]     # y is a slice, i.e., pointer to a subarray in x\n",
    "print('        y =', y)\n",
    "y[:] = 1000    # modifying the value of y will change x\n",
    "print('After : y =', y)\n",
    "print('        x =', x, '\\n')\n",
    "\n",
    "z = x[3:5].copy()   # makes a copy of the subarray\n",
    "print('Before: x =', x)\n",
    "print('        z =', z)\n",
    "z[:] = 500          # modifying the value of z will not affect x\n",
    "print('After : z =', z)\n",
    "print('        x =', x)"
   ]
  },
  {
   "cell_type": "markdown",
   "metadata": {},
   "source": [
    "There are many ways to access elements of an ndarray. The following example illustrates the difference between indexing elements of a list and elements of ndarray. "
   ]
  },
  {
   "cell_type": "code",
   "execution_count": 7,
   "metadata": {},
   "outputs": [
    {
     "name": "stdout",
     "output_type": "stream",
     "text": [
      "my2dlist = [[1, 2, 3, 4], [5, 6, 7, 8], [9, 10, 11, 12]]\n",
      "my2dlist[2] = [9, 10, 11, 12]\n",
      "my2dlist[:][2] = [9, 10, 11, 12]\n",
      "\n",
      "my2darr =\n",
      " [[ 1  2  3  4]\n",
      " [ 5  6  7  8]\n",
      " [ 9 10 11 12]]\n",
      "my2darr[2][:] = [ 9 10 11 12]\n",
      "my2darr[2,:] = [ 9 10 11 12]\n",
      "my2darr[:][2] = [ 9 10 11 12]\n",
      "my2darr[:,2] = [ 3  7 11]\n",
      "my2darr[:2,2:] =\n",
      " [[3 4]\n",
      " [7 8]]\n"
     ]
    }
   ],
   "source": [
    "my2dlist = [[1,2,3,4],[5,6,7,8],[9,10,11,12]]  # a 2-dim list\n",
    "print('my2dlist =', my2dlist)\n",
    "print('my2dlist[2] =', my2dlist[2])            # access the third sublist\n",
    "print('my2dlist[:][2] =', my2dlist[:][2])      # can't access third element of each sublist\n",
    "# print('my2dlist[:,2] =', my2dlist[:,2])      # invalid way to access sublist, will cause syntax error\n",
    "\n",
    "my2darr = np.array(my2dlist)\n",
    "print('\\nmy2darr =\\n', my2darr)\n",
    "\n",
    "print('my2darr[2][:] =', my2darr[2][:])      # access the third row\n",
    "print('my2darr[2,:] =', my2darr[2,:])        # access the third row\n",
    "print('my2darr[:][2] =', my2darr[:][2])      # access the third row (similar to 2d list)\n",
    "print('my2darr[:,2] =', my2darr[:,2])        # access the third column\n",
    "print('my2darr[:2,2:] =\\n', my2darr[:2,2:])     # access the first two rows & last two columns"
   ]
  },
  {
   "cell_type": "markdown",
   "metadata": {},
   "source": [
    "Numpy arrays also support boolean indexing."
   ]
  },
  {
   "cell_type": "code",
   "execution_count": 8,
   "metadata": {},
   "outputs": [
    {
     "name": "stdout",
     "output_type": "stream",
     "text": [
      "my2darr =\n",
      " [[ 1  2  3  4]\n",
      " [ 5  6  7  8]\n",
      " [ 9 10 11 12]]\n",
      "\n",
      "my2darr[my2darr % 3 == 0] = [ 3  6  9 12]\n",
      "my2darr[2:, my2darr[2,:] % 3 == 0] = [[ 9 12]]\n"
     ]
    }
   ],
   "source": [
    "my2darr = np.arange(1,13,1).reshape(3,4)\n",
    "print('my2darr =\\n', my2darr)\n",
    "\n",
    "divBy3 = my2darr[my2darr % 3 == 0]\n",
    "print('\\nmy2darr[my2darr % 3 == 0] =', divBy3)            # returns all the elements divisible by 3 in an ndarray\n",
    "\n",
    "divBy3LastRow = my2darr[2:, my2darr[2,:] % 3 == 0]\n",
    "print('my2darr[2:, my2darr[2,:] % 3 == 0] =', divBy3LastRow)    # returns elements in the last row divisible by 3"
   ]
  },
  {
   "cell_type": "markdown",
   "metadata": {},
   "source": [
    "More indexing examples."
   ]
  },
  {
   "cell_type": "code",
   "execution_count": 9,
   "metadata": {},
   "outputs": [
    {
     "name": "stdout",
     "output_type": "stream",
     "text": [
      "my2darr =\n",
      " [[ 1  2  3]\n",
      " [ 4  5  6]\n",
      " [ 7  8  9]\n",
      " [10 11 12]]\n",
      "indices = [2, 1, 0, 3] \n",
      "\n",
      "my2darr[indices,:] =\n",
      " [[ 7  8  9]\n",
      " [ 4  5  6]\n",
      " [ 1  2  3]\n",
      " [10 11 12]]\n",
      "\n",
      "rowIndex = [0, 0, 1, 2, 3]\n",
      "columnIndex = [0, 2, 0, 1, 2] \n",
      "\n",
      "my2darr[rowIndex,columnIndex] = [ 1  3  4  8 12]\n"
     ]
    }
   ],
   "source": [
    "my2darr = np.arange(1,13,1).reshape(4,3)\n",
    "print('my2darr =\\n', my2darr)\n",
    "\n",
    "indices = [2,1,0,3]    # selected row indices\n",
    "print('indices =', indices, '\\n')\n",
    "print('my2darr[indices,:] =\\n', my2darr[indices,:])  # this will shuffle the rows of my2darr\n",
    "\n",
    "rowIndex = [0,0,1,2,3]     # row index into my2darr\n",
    "print('\\nrowIndex =', rowIndex)\n",
    "columnIndex = [0,2,0,1,2]  # column index into my2darr\n",
    "print('columnIndex =', columnIndex, '\\n')\n",
    "print('my2darr[rowIndex,columnIndex] =', my2darr[rowIndex,columnIndex])"
   ]
  },
  {
   "cell_type": "markdown",
   "metadata": {},
   "source": [
    "## 2.1.4 Numpy Arithmetic and Statistical Functions\n",
    "\n",
    "Numpy provides many built-in mathematical functions available for manipulating elements of an ndarray."
   ]
  },
  {
   "cell_type": "code",
   "execution_count": 10,
   "metadata": {},
   "outputs": [
    {
     "name": "stdout",
     "output_type": "stream",
     "text": [
      "y = [-1.4  0.4 -3.2  2.5  3.4] \n",
      "\n",
      "np.abs(y) = [1.4 0.4 3.2 2.5 3.4]\n",
      "np.sqrt(abs(y)) = [1.18321596 0.63245553 1.78885438 1.58113883 1.84390889]\n",
      "np.sign(y) = [-1.  1. -1.  1.  1.]\n",
      "np.exp(y) = [ 0.24659696  1.4918247   0.0407622  12.18249396 29.96410005]\n",
      "np.sort(y) = [-3.2 -1.4  0.4  2.5  3.4]\n"
     ]
    }
   ],
   "source": [
    "y = np.array([-1.4, 0.4, -3.2, 2.5, 3.4])    \n",
    "print('y =', y, '\\n')\n",
    "\n",
    "print('np.abs(y) =', np.abs(y))                # convert to absolute values\n",
    "print('np.sqrt(abs(y)) =', np.sqrt(abs(y)))    # apply square root to each element\n",
    "print('np.sign(y) =', np.sign(y))              # get the sign of each element\n",
    "print('np.exp(y) =', np.exp(y))                # apply exponentiation\n",
    "print('np.sort(y) =', np.sort(y))              # sort array"
   ]
  },
  {
   "cell_type": "code",
   "execution_count": 11,
   "metadata": {},
   "outputs": [
    {
     "name": "stdout",
     "output_type": "stream",
     "text": [
      "x = [-2 -1  0  1  2]\n",
      "y = [-0.50688835  0.01775364  1.39718085 -0.96343042 -1.62149352] \n",
      "\n",
      "np.add(x,y) = [-2.50688835 -0.98224636  1.39718085  0.03656958  0.37850648]\n",
      "np.subtract(x,y) = [-1.49311165 -1.01775364 -1.39718085  1.96343042  3.62149352]\n",
      "np.multiply(x,y) = [ 1.01377671 -0.01775364  0.         -0.96343042 -3.24298703]\n",
      "np.divide(x,y) = [  3.94564204 -56.32646447   0.          -1.03795768  -1.23343077]\n",
      "np.maximum(x,y) = [-0.50688835  0.01775364  1.39718085  1.          2.        ]\n"
     ]
    }
   ],
   "source": [
    "x = np.arange(-2,3)\n",
    "y = np.random.randn(5)\n",
    "print('x =', x)\n",
    "print('y =', y, '\\n')\n",
    "\n",
    "print('np.add(x,y) =', np.add(x,y))                # element-wise addition       x + y\n",
    "print('np.subtract(x,y) =', np.subtract(x,y))      # element-wise subtraction    x - y\n",
    "print('np.multiply(x,y) =', np.multiply(x,y))      # element-wise multiplication x * y\n",
    "print('np.divide(x,y) =', np.divide(x,y))          # element-wise division       x / y\n",
    "print('np.maximum(x,y) =', np.maximum(x,y))        # element-wise maximum        max(x,y)"
   ]
  },
  {
   "cell_type": "code",
   "execution_count": 12,
   "metadata": {},
   "outputs": [
    {
     "name": "stdout",
     "output_type": "stream",
     "text": [
      "y = [-3.2 -1.4  0.4  2.5  3.4] \n",
      "\n",
      "Min = -3.2\n",
      "Max = 3.4\n",
      "Average = 0.34000000000000014\n",
      "Std deviation = 2.432776191925595\n",
      "Sum = 1.7000000000000006\n"
     ]
    }
   ],
   "source": [
    "y = np.array([-3.2, -1.4, 0.4, 2.5, 3.4])    \n",
    "print('y =', y, '\\n')\n",
    "\n",
    "print(\"Min =\", np.min(y))             # min \n",
    "print(\"Max =\", np.max(y))             # max \n",
    "print(\"Average =\", np.mean(y))        # mean/average\n",
    "print(\"Std deviation =\", np.std(y))   # standard deviation\n",
    "print(\"Sum =\", np.sum(y))             # sum "
   ]
  },
  {
   "cell_type": "markdown",
   "metadata": {},
   "source": [
    "## 2.1.5 Numpy linear algebra\n",
    "\n",
    "Numpy provides many functions to support linear algebra operations."
   ]
  },
  {
   "cell_type": "code",
   "execution_count": 13,
   "metadata": {},
   "outputs": [
    {
     "name": "stdout",
     "output_type": "stream",
     "text": [
      "X =\n",
      " [[-1.6599964  -0.10958006 -0.87932184]\n",
      " [-0.52820603  1.51859622 -0.38278124]] \n",
      "\n",
      "Transpose of X, X.T =\n",
      " [[-1.6599964  -0.52820603]\n",
      " [-0.10958006  1.51859622]\n",
      " [-0.87932184 -0.38278124]] \n",
      "\n",
      "y = [-0.52268385 -0.17837443 -0.00755901] \n",
      "\n",
      "Matrix-vector multiplication\n",
      "X.dot(y) =\n",
      " [0.89384639 0.00809947] \n",
      "\n",
      "Matrix-matrix product\n",
      "X.dot(X.T) = [[3.54080274 1.04700015]\n",
      " [1.04700015 2.73165756]]\n",
      "\n",
      "X.T.dot(X) =\n",
      " [[ 3.03458967 -0.62022917  1.66185845]\n",
      " [-0.62022917  2.31814226 -0.48493401]\n",
      " [ 1.66185845 -0.48493401  0.91972838]]\n"
     ]
    }
   ],
   "source": [
    "X = np.random.randn(2,3)                         # create a 2 x 3 random matrix\n",
    "print('X =\\n', X, '\\n')\n",
    "print('Transpose of X, X.T =\\n', X.T, '\\n')      # matrix transpose operation X^T\n",
    "\n",
    "y = np.random.randn(3) # random vector \n",
    "print('y =', y, '\\n')\n",
    "\n",
    "print('Matrix-vector multiplication')\n",
    "print('X.dot(y) =\\n', X.dot(y), '\\n')            # matrix-vector multiplication  X * y\n",
    "\n",
    "print('Matrix-matrix product')\n",
    "print('X.dot(X.T) =', X.dot(X.T))        # matrix-matrix multiplication  X * X^T\n",
    "print('\\nX.T.dot(X) =\\n', X.T.dot(X))      # matrix-matrix multiplication  X^T * X"
   ]
  },
  {
   "cell_type": "code",
   "execution_count": 14,
   "metadata": {},
   "outputs": [
    {
     "name": "stdout",
     "output_type": "stream",
     "text": [
      "X =\n",
      " [[ 0.27769857 -0.33046975 -0.70310814]\n",
      " [ 0.23490021 -0.4007174   0.69038384]\n",
      " [-0.51668937 -1.27110852 -0.76518227]\n",
      " [-0.7285205  -0.45627476 -0.61223915]\n",
      " [ 0.8599864  -1.89199422  0.5121641 ]] \n",
      "\n",
      "C = X.T.dot(X) =\n",
      " [[ 1.66958123 -0.8238151   1.24876366]\n",
      " [-0.8238151   5.67333036  0.23867461]\n",
      " [ 1.24876366  0.23867461  2.19364365]] \n",
      "\n",
      "Inverse of C = np.linalg.inv(C)\n",
      " [[ 1.25688075  0.21358796 -0.73873669]\n",
      " [ 0.21358796  0.21336989 -0.14480331]\n",
      " [-0.73873669 -0.14480331  0.8921542 ]] \n",
      "\n",
      "Determinant of C = np.linalg.det(C) = 9.856384161204732\n",
      "Eigenvalues of C =\n",
      " [0.53324432 3.16707815 5.83623278]\n",
      "Eigenvectors of C =\n",
      " [[-0.77908115 -0.59593203 -0.19467298]\n",
      " [-0.15309459 -0.12027348  0.9808651 ]\n",
      " [ 0.60794293 -0.79397689 -0.00246883]]\n"
     ]
    }
   ],
   "source": [
    "X = np.random.randn(5,3)\n",
    "print('X =\\n', X, '\\n')\n",
    "\n",
    "C = X.T.dot(X)               # C = X^T * X is a square matrix\n",
    "print('C = X.T.dot(X) =\\n', C, '\\n')\n",
    "\n",
    "invC = np.linalg.inv(C)      # inverse of a square matrix\n",
    "print('Inverse of C = np.linalg.inv(C)\\n', invC, '\\n')\n",
    "\n",
    "detC = np.linalg.det(C)      # determinant of a square matrix\n",
    "print('Determinant of C = np.linalg.det(C) =', detC)\n",
    "\n",
    "S, U = np.linalg.eig(C)      # eigenvalue S and eigenvector U of a square matrix\n",
    "print('Eigenvalues of C =\\n', S)\n",
    "print('Eigenvectors of C =\\n', U)"
   ]
  },
  {
   "cell_type": "markdown",
   "metadata": {},
   "source": [
    "## 2.2 Introduction to Pandas\n",
    "\n",
    "Pandas provide two convenient data structures for storing and manipulating data--Series and DataFrame. A Series is similar to a one-dimensional array whereas a DataFrame is a tabular representation akin to a spreadsheet table.  \n",
    "\n",
    "### 2.2.1 Series\n",
    "\n",
    "A Series object consists of a one-dimensional array of values, whose elements can be referenced using an index array. A Series object can be created from a list, a numpy array, or a Python dictionary. You can apply most of the numpy functions on the Series object."
   ]
  },
  {
   "cell_type": "code",
   "execution_count": 15,
   "metadata": {},
   "outputs": [
    {
     "name": "stdout",
     "output_type": "stream",
     "text": [
      "Series, s =\n",
      " 0    3.1\n",
      "1    2.4\n",
      "2   -1.7\n",
      "3    0.2\n",
      "4   -2.9\n",
      "5    4.5\n",
      "dtype: float64 \n",
      "\n",
      "s.values = [ 3.1  2.4 -1.7  0.2 -2.9  4.5]\n",
      "s.index = RangeIndex(start=0, stop=6, step=1)\n",
      "s.dtype = float64\n"
     ]
    }
   ],
   "source": [
    "from pandas import Series\n",
    "\n",
    "s = Series([3.1, 2.4, -1.7, 0.2, -2.9, 4.5])   # creating a series from a list\n",
    "print('Series, s =\\n', s, '\\n')\n",
    "\n",
    "print('s.values =', s.values)     # display values of the Series\n",
    "print('s.index =', s.index)       # display indices of the Series\n",
    "print('s.dtype =', s.dtype)       # display the element type of the Series"
   ]
  },
  {
   "cell_type": "code",
   "execution_count": 16,
   "metadata": {},
   "outputs": [
    {
     "name": "stdout",
     "output_type": "stream",
     "text": [
      "Series s2 =\n",
      " 0   -1.609919\n",
      "1   -0.339344\n",
      "2    0.323881\n",
      "3    0.413880\n",
      "4    0.367093\n",
      "5    0.199248\n",
      "dtype: float64 \n",
      "\n",
      "s2.values = [-1.6099195  -0.33934392  0.32388058  0.4138805   0.36709251  0.19924842]\n",
      "s2.index = RangeIndex(start=0, stop=6, step=1)\n",
      "s2.dtype = float64\n"
     ]
    }
   ],
   "source": [
    "import numpy as np\n",
    "\n",
    "s2 = Series(np.random.randn(6))   # creating a series from a numpy ndarray\n",
    "print('Series s2 =\\n', s2, '\\n')\n",
    "print('s2.values =', s2.values)   # display values of the Series\n",
    "print('s2.index =', s2.index)     # display indices of the Series\n",
    "print('s2.dtype =', s2.dtype)     # display the element type of the Series"
   ]
  },
  {
   "cell_type": "code",
   "execution_count": 17,
   "metadata": {},
   "outputs": [
    {
     "name": "stdout",
     "output_type": "stream",
     "text": [
      "Series s3 =\n",
      " Jan 1    1.2\n",
      "Jan 2    2.5\n",
      "Jan 3   -2.2\n",
      "Jan 4    3.1\n",
      "Jan 5   -0.8\n",
      "Jan 6   -3.2\n",
      "dtype: float64 \n",
      "\n",
      "s3.values = [ 1.2  2.5 -2.2  3.1 -0.8 -3.2]\n",
      "s3.index = Index(['Jan 1', 'Jan 2', 'Jan 3', 'Jan 4', 'Jan 5', 'Jan 6'], dtype='object')\n",
      "s3.dtype = float64\n"
     ]
    }
   ],
   "source": [
    "s3 = Series([1.2,2.5,-2.2,3.1,-0.8,-3.2], \n",
    "            index = ['Jan 1','Jan 2','Jan 3','Jan 4','Jan 5','Jan 6',])\n",
    "print('Series s3 =\\n', s3, '\\n')\n",
    "print('s3.values =', s3.values)   # display values of the Series\n",
    "print('s3.index =', s3.index)     # display indices of the Series\n",
    "print('s3.dtype =', s3.dtype)     # display the element type of the Series"
   ]
  },
  {
   "cell_type": "code",
   "execution_count": 18,
   "metadata": {},
   "outputs": [
    {
     "name": "stdout",
     "output_type": "stream",
     "text": [
      "Series s4 =\n",
      " MI       Lansing\n",
      "CA    Sacramento\n",
      "TX        Austin\n",
      "MN       St Paul\n",
      "dtype: object \n",
      "\n",
      "s4.values = ['Lansing' 'Sacramento' 'Austin' 'St Paul']\n",
      "s4.index= Index(['MI', 'CA', 'TX', 'MN'], dtype='object')\n",
      "s4.dtype = object\n"
     ]
    }
   ],
   "source": [
    "capitals = {'MI': 'Lansing', 'CA': 'Sacramento', 'TX': 'Austin', 'MN': 'St Paul'}\n",
    "\n",
    "s4 = Series(capitals)   # creating a series from dictionary object\n",
    "print('Series s4 =\\n', s4, '\\n')\n",
    "print('s4.values =', s4.values)   # display values of the Series\n",
    "print('s4.index=', s4.index)      # display indices of the Series\n",
    "print('s4.dtype =', s4.dtype)     # display the element type of the Series"
   ]
  },
  {
   "cell_type": "code",
   "execution_count": 19,
   "metadata": {},
   "outputs": [
    {
     "name": "stdout",
     "output_type": "stream",
     "text": [
      "s3 =\n",
      " Jan 1    1.2\n",
      "Jan 2    2.5\n",
      "Jan 3   -2.2\n",
      "Jan 4    3.1\n",
      "Jan 5   -0.8\n",
      "Jan 6   -3.2\n",
      "dtype: float64 \n",
      "\n",
      "s3[2]= -2.2\n",
      "s3['Jan 3']= -2.2\n",
      "\n",
      "s3[1:3]=\n",
      "Jan 2    2.5\n",
      "Jan 3   -2.2\n",
      "dtype: float64\n",
      "\n",
      "s3.iloc([1:3])=\n",
      "Jan 2    2.5\n",
      "Jan 3   -2.2\n",
      "dtype: float64\n"
     ]
    }
   ],
   "source": [
    "s3 = Series([1.2,2.5,-2.2,3.1,-0.8,-3.2], \n",
    "            index = ['Jan 1','Jan 2','Jan 3','Jan 4','Jan 5','Jan 6',])\n",
    "print('s3 =\\n', s3, '\\n')\n",
    "\n",
    "# Accessing elements of a Series\n",
    "\n",
    "print('s3[2]=', s3[2])        # display third element of the Series\n",
    "print('s3[\\'Jan 3\\']=', s3['Jan 3'])   # indexing element of a Series \n",
    "\n",
    "print('\\ns3[1:3]=')             # display a slice of the Series\n",
    "print(s3[1:3])\n",
    "print('\\ns3.iloc([1:3])=')      # display a slice of the Series\n",
    "print(s3.iloc[1:3])"
   ]
  },
  {
   "cell_type": "markdown",
   "metadata": {},
   "source": [
    "There are various functions available to find the number of elements in a Series. Result of the function depends on whether null elements are included. "
   ]
  },
  {
   "cell_type": "code",
   "execution_count": 20,
   "metadata": {},
   "outputs": [
    {
     "name": "stdout",
     "output_type": "stream",
     "text": [
      "Series s3 =\n",
      " Jan 1    1.2\n",
      "Jan 2    2.5\n",
      "Jan 3   -2.2\n",
      "Jan 4    3.1\n",
      "Jan 5   -0.8\n",
      "Jan 6   -3.2\n",
      "Jan 7    NaN\n",
      "dtype: float64 \n",
      "\n",
      "Shape of s3 = (7,)\n",
      "Size of s3 = 7\n",
      "Count of s3 = 6\n"
     ]
    }
   ],
   "source": [
    "s3['Jan 7'] = np.nan\n",
    "print('Series s3 =\\n', s3, '\\n')\n",
    "\n",
    "print('Shape of s3 =', s3.shape)   # get the dimension of the Series\n",
    "print('Size of s3 =', s3.size)     # get the number of elements of the Series\n",
    "print('Count of s3 =', s3.count()) # get the number of non-null elements of the Series"
   ]
  },
  {
   "cell_type": "markdown",
   "metadata": {},
   "source": [
    "A boolean filter can be used to select elements of a Series"
   ]
  },
  {
   "cell_type": "code",
   "execution_count": 21,
   "metadata": {},
   "outputs": [
    {
     "name": "stdout",
     "output_type": "stream",
     "text": [
      "Jan 1    1.2\n",
      "Jan 2    2.5\n",
      "Jan 4    3.1\n",
      "dtype: float64\n"
     ]
    }
   ],
   "source": [
    "print(s3[s3 > 0])   # applying filter to select non-negative elements of the Series"
   ]
  },
  {
   "cell_type": "markdown",
   "metadata": {},
   "source": [
    "Scalar operations can be performed on elements of a numeric Series"
   ]
  },
  {
   "cell_type": "code",
   "execution_count": 22,
   "metadata": {},
   "outputs": [
    {
     "name": "stdout",
     "output_type": "stream",
     "text": [
      "s3 + 4 =\n",
      " Jan 1    5.2\n",
      "Jan 2    6.5\n",
      "Jan 3    1.8\n",
      "Jan 4    7.1\n",
      "Jan 5    3.2\n",
      "Jan 6    0.8\n",
      "Jan 7    NaN\n",
      "dtype: float64 \n",
      "\n",
      "s3 / 4 =\n",
      " Jan 1    0.300\n",
      "Jan 2    0.625\n",
      "Jan 3   -0.550\n",
      "Jan 4    0.775\n",
      "Jan 5   -0.200\n",
      "Jan 6   -0.800\n",
      "Jan 7      NaN\n",
      "dtype: float64\n"
     ]
    }
   ],
   "source": [
    "print('s3 + 4 =\\n', s3 + 4, '\\n')       \n",
    "print('s3 / 4 =\\n', s3 / 4)                 "
   ]
  },
  {
   "cell_type": "markdown",
   "metadata": {},
   "source": [
    "Numpy functions can be applied to pandas Series. "
   ]
  },
  {
   "cell_type": "code",
   "execution_count": 23,
   "metadata": {},
   "outputs": [
    {
     "name": "stdout",
     "output_type": "stream",
     "text": [
      "np.log(s3 + 4) =\n",
      " Jan 1    1.648659\n",
      "Jan 2    1.871802\n",
      "Jan 3    0.587787\n",
      "Jan 4    1.960095\n",
      "Jan 5    1.163151\n",
      "Jan 6   -0.223144\n",
      "Jan 7         NaN\n",
      "dtype: float64 \n",
      "\n",
      "np.exp(s3 - 4) =\n",
      " Jan 1    0.060810\n",
      "Jan 2    0.223130\n",
      "Jan 3    0.002029\n",
      "Jan 4    0.406570\n",
      "Jan 5    0.008230\n",
      "Jan 6    0.000747\n",
      "Jan 7         NaN\n",
      "dtype: float64 \n",
      "\n"
     ]
    }
   ],
   "source": [
    "print('np.log(s3 + 4) =\\n', np.log(s3 + 4), '\\n')    # applying log function to a numeric Series\n",
    "print('np.exp(s3 - 4) =\\n', np.exp(s3 - 4), '\\n')    # applying exponent function to a numeric Series"
   ]
  },
  {
   "cell_type": "markdown",
   "metadata": {},
   "source": [
    "The value_counts() function can be used for tabulating the counts of each discrete value in the Series. "
   ]
  },
  {
   "cell_type": "code",
   "execution_count": 24,
   "metadata": {},
   "outputs": [
    {
     "name": "stdout",
     "output_type": "stream",
     "text": [
      "colors =\n",
      " 0       red\n",
      "1      blue\n",
      "2      blue\n",
      "3    yellow\n",
      "4       red\n",
      "5     green\n",
      "6      blue\n",
      "7       NaN\n",
      "dtype: object \n",
      "\n",
      "colors.value_counts() =\n",
      " blue      3\n",
      "red       2\n",
      "yellow    1\n",
      "green     1\n",
      "dtype: int64\n"
     ]
    }
   ],
   "source": [
    "colors = Series(['red', 'blue', 'blue', 'yellow', 'red', 'green', 'blue', np.nan])\n",
    "print('colors =\\n', colors, '\\n')\n",
    "\n",
    "print('colors.value_counts() =\\n', colors.value_counts())"
   ]
  },
  {
   "cell_type": "markdown",
   "metadata": {},
   "source": [
    "### 2.2.2 DataFrame\n",
    "\n",
    "A DataFrame object is a tabular, spreadsheet-like data structure containing a collection of columns, each of which can be of different types (numeric, string, boolean, etc). Unlike Series, a DataFrame has distinct row and column indices. There are many ways to create a DataFrame object (e.g., from a dictionary, list of tuples, or even numpy's ndarrays)."
   ]
  },
  {
   "cell_type": "code",
   "execution_count": 25,
   "metadata": {},
   "outputs": [
    {
     "data": {
      "text/html": [
       "<div>\n",
       "<style scoped>\n",
       "    .dataframe tbody tr th:only-of-type {\n",
       "        vertical-align: middle;\n",
       "    }\n",
       "\n",
       "    .dataframe tbody tr th {\n",
       "        vertical-align: top;\n",
       "    }\n",
       "\n",
       "    .dataframe thead th {\n",
       "        text-align: right;\n",
       "    }\n",
       "</style>\n",
       "<table border=\"1\" class=\"dataframe\">\n",
       "  <thead>\n",
       "    <tr style=\"text-align: right;\">\n",
       "      <th></th>\n",
       "      <th>make</th>\n",
       "      <th>model</th>\n",
       "      <th>MSRP</th>\n",
       "    </tr>\n",
       "  </thead>\n",
       "  <tbody>\n",
       "    <tr>\n",
       "      <th>0</th>\n",
       "      <td>Fordaa</td>\n",
       "      <td>Taurus</td>\n",
       "      <td>27595</td>\n",
       "    </tr>\n",
       "    <tr>\n",
       "      <th>1</th>\n",
       "      <td>Honda</td>\n",
       "      <td>Accord</td>\n",
       "      <td>23570</td>\n",
       "    </tr>\n",
       "    <tr>\n",
       "      <th>2</th>\n",
       "      <td>Toyota</td>\n",
       "      <td>Camry</td>\n",
       "      <td>23495</td>\n",
       "    </tr>\n",
       "    <tr>\n",
       "      <th>3</th>\n",
       "      <td>Tesla</td>\n",
       "      <td>Model S</td>\n",
       "      <td>68000</td>\n",
       "    </tr>\n",
       "  </tbody>\n",
       "</table>\n",
       "</div>"
      ],
      "text/plain": [
       "     make    model   MSRP\n",
       "0  Fordaa   Taurus  27595\n",
       "1   Honda   Accord  23570\n",
       "2  Toyota    Camry  23495\n",
       "3   Tesla  Model S  68000"
      ]
     },
     "execution_count": 25,
     "metadata": {},
     "output_type": "execute_result"
    }
   ],
   "source": [
    "from pandas import DataFrame\n",
    "\n",
    "cars = {'make': ['Fordaa', 'Honda', 'Toyota', 'Tesla'],\n",
    "       'model': ['Taurus', 'Accord', 'Camry', 'Model S'],\n",
    "       'MSRP': [27595, 23570, 23495, 68000]}          \n",
    "carData = DataFrame(cars)            # creating DataFrame from dictionary\n",
    "carData                              # display the table"
   ]
  },
  {
   "cell_type": "code",
   "execution_count": 26,
   "metadata": {},
   "outputs": [
    {
     "name": "stdout",
     "output_type": "stream",
     "text": [
      "carData.index = RangeIndex(start=0, stop=4, step=1)\n",
      "carData.columns = Index(['make', 'model', 'MSRP'], dtype='object')\n"
     ]
    }
   ],
   "source": [
    "print('carData.index =', carData.index)         # print the row indices\n",
    "print('carData.columns =', carData.columns)     # print the column indices"
   ]
  },
  {
   "cell_type": "markdown",
   "metadata": {},
   "source": [
    "Inserting columns to an existing dataframe"
   ]
  },
  {
   "cell_type": "code",
   "execution_count": 27,
   "metadata": {},
   "outputs": [
    {
     "data": {
      "text/html": [
       "<div>\n",
       "<style scoped>\n",
       "    .dataframe tbody tr th:only-of-type {\n",
       "        vertical-align: middle;\n",
       "    }\n",
       "\n",
       "    .dataframe tbody tr th {\n",
       "        vertical-align: top;\n",
       "    }\n",
       "\n",
       "    .dataframe thead th {\n",
       "        text-align: right;\n",
       "    }\n",
       "</style>\n",
       "<table border=\"1\" class=\"dataframe\">\n",
       "  <thead>\n",
       "    <tr style=\"text-align: right;\">\n",
       "      <th></th>\n",
       "      <th>make</th>\n",
       "      <th>model</th>\n",
       "      <th>MSRP</th>\n",
       "      <th>year</th>\n",
       "      <th>dealership</th>\n",
       "    </tr>\n",
       "  </thead>\n",
       "  <tbody>\n",
       "    <tr>\n",
       "      <th>1</th>\n",
       "      <td>Fordaa</td>\n",
       "      <td>Taurus</td>\n",
       "      <td>27595</td>\n",
       "      <td>2018</td>\n",
       "      <td>Courtesy Ford</td>\n",
       "    </tr>\n",
       "    <tr>\n",
       "      <th>2</th>\n",
       "      <td>Honda</td>\n",
       "      <td>Accord</td>\n",
       "      <td>23570</td>\n",
       "      <td>2018</td>\n",
       "      <td>Capital Honda</td>\n",
       "    </tr>\n",
       "    <tr>\n",
       "      <th>3</th>\n",
       "      <td>Toyota</td>\n",
       "      <td>Camry</td>\n",
       "      <td>23495</td>\n",
       "      <td>2018</td>\n",
       "      <td>Spartan Toyota</td>\n",
       "    </tr>\n",
       "    <tr>\n",
       "      <th>4</th>\n",
       "      <td>Tesla</td>\n",
       "      <td>Model S</td>\n",
       "      <td>68000</td>\n",
       "      <td>2018</td>\n",
       "      <td>N/A</td>\n",
       "    </tr>\n",
       "  </tbody>\n",
       "</table>\n",
       "</div>"
      ],
      "text/plain": [
       "     make    model   MSRP  year      dealership\n",
       "1  Fordaa   Taurus  27595  2018   Courtesy Ford\n",
       "2   Honda   Accord  23570  2018   Capital Honda\n",
       "3  Toyota    Camry  23495  2018  Spartan Toyota\n",
       "4   Tesla  Model S  68000  2018             N/A"
      ]
     },
     "execution_count": 27,
     "metadata": {},
     "output_type": "execute_result"
    }
   ],
   "source": [
    "carData2 = DataFrame(cars, index = [1,2,3,4])  # change the row index\n",
    "carData2['year'] = 2018    # add column with same value\n",
    "carData2['dealership'] = ['Courtesy Ford','Capital Honda','Spartan Toyota','N/A']\n",
    "carData2                   # display table"
   ]
  },
  {
   "cell_type": "markdown",
   "metadata": {},
   "source": [
    "Creating DataFrame from a list of tuples."
   ]
  },
  {
   "cell_type": "code",
   "execution_count": 28,
   "metadata": {},
   "outputs": [
    {
     "data": {
      "text/html": [
       "<div>\n",
       "<style scoped>\n",
       "    .dataframe tbody tr th:only-of-type {\n",
       "        vertical-align: middle;\n",
       "    }\n",
       "\n",
       "    .dataframe tbody tr th {\n",
       "        vertical-align: top;\n",
       "    }\n",
       "\n",
       "    .dataframe thead th {\n",
       "        text-align: right;\n",
       "    }\n",
       "</style>\n",
       "<table border=\"1\" class=\"dataframe\">\n",
       "  <thead>\n",
       "    <tr style=\"text-align: right;\">\n",
       "      <th></th>\n",
       "      <th>year</th>\n",
       "      <th>temp</th>\n",
       "      <th>precip</th>\n",
       "    </tr>\n",
       "  </thead>\n",
       "  <tbody>\n",
       "    <tr>\n",
       "      <th>0</th>\n",
       "      <td>2011</td>\n",
       "      <td>45.1</td>\n",
       "      <td>32.4</td>\n",
       "    </tr>\n",
       "    <tr>\n",
       "      <th>1</th>\n",
       "      <td>2012</td>\n",
       "      <td>42.4</td>\n",
       "      <td>34.5</td>\n",
       "    </tr>\n",
       "    <tr>\n",
       "      <th>2</th>\n",
       "      <td>2013</td>\n",
       "      <td>47.2</td>\n",
       "      <td>39.2</td>\n",
       "    </tr>\n",
       "    <tr>\n",
       "      <th>3</th>\n",
       "      <td>2014</td>\n",
       "      <td>44.2</td>\n",
       "      <td>31.4</td>\n",
       "    </tr>\n",
       "    <tr>\n",
       "      <th>4</th>\n",
       "      <td>2015</td>\n",
       "      <td>39.9</td>\n",
       "      <td>29.8</td>\n",
       "    </tr>\n",
       "    <tr>\n",
       "      <th>5</th>\n",
       "      <td>2016</td>\n",
       "      <td>41.5</td>\n",
       "      <td>36.7</td>\n",
       "    </tr>\n",
       "  </tbody>\n",
       "</table>\n",
       "</div>"
      ],
      "text/plain": [
       "   year  temp  precip\n",
       "0  2011  45.1    32.4\n",
       "1  2012  42.4    34.5\n",
       "2  2013  47.2    39.2\n",
       "3  2014  44.2    31.4\n",
       "4  2015  39.9    29.8\n",
       "5  2016  41.5    36.7"
      ]
     },
     "execution_count": 28,
     "metadata": {},
     "output_type": "execute_result"
    }
   ],
   "source": [
    "tuplelist = [(2011,45.1,32.4),(2012,42.4,34.5),(2013,47.2,39.2),\n",
    "              (2014,44.2,31.4),(2015,39.9,29.8),(2016,41.5,36.7)]\n",
    "columnNames = ['year','temp','precip']\n",
    "weatherData = DataFrame(tuplelist, columns=columnNames)\n",
    "weatherData"
   ]
  },
  {
   "cell_type": "markdown",
   "metadata": {},
   "source": [
    "Creating DataFrame from numpy ndarray"
   ]
  },
  {
   "cell_type": "code",
   "execution_count": 29,
   "metadata": {},
   "outputs": [
    {
     "data": {
      "text/html": [
       "<div>\n",
       "<style scoped>\n",
       "    .dataframe tbody tr th:only-of-type {\n",
       "        vertical-align: middle;\n",
       "    }\n",
       "\n",
       "    .dataframe tbody tr th {\n",
       "        vertical-align: top;\n",
       "    }\n",
       "\n",
       "    .dataframe thead th {\n",
       "        text-align: right;\n",
       "    }\n",
       "</style>\n",
       "<table border=\"1\" class=\"dataframe\">\n",
       "  <thead>\n",
       "    <tr style=\"text-align: right;\">\n",
       "      <th></th>\n",
       "      <th>x1</th>\n",
       "      <th>x2</th>\n",
       "      <th>x3</th>\n",
       "    </tr>\n",
       "  </thead>\n",
       "  <tbody>\n",
       "    <tr>\n",
       "      <th>0</th>\n",
       "      <td>0.652543</td>\n",
       "      <td>0.142482</td>\n",
       "      <td>-0.883506</td>\n",
       "    </tr>\n",
       "    <tr>\n",
       "      <th>1</th>\n",
       "      <td>1.024866</td>\n",
       "      <td>0.962516</td>\n",
       "      <td>0.156058</td>\n",
       "    </tr>\n",
       "    <tr>\n",
       "      <th>2</th>\n",
       "      <td>-1.152664</td>\n",
       "      <td>-1.491310</td>\n",
       "      <td>-0.139207</td>\n",
       "    </tr>\n",
       "    <tr>\n",
       "      <th>3</th>\n",
       "      <td>0.111591</td>\n",
       "      <td>-1.218479</td>\n",
       "      <td>-0.864805</td>\n",
       "    </tr>\n",
       "    <tr>\n",
       "      <th>4</th>\n",
       "      <td>-1.075349</td>\n",
       "      <td>-0.414345</td>\n",
       "      <td>0.869367</td>\n",
       "    </tr>\n",
       "  </tbody>\n",
       "</table>\n",
       "</div>"
      ],
      "text/plain": [
       "         x1        x2        x3\n",
       "0  0.652543  0.142482 -0.883506\n",
       "1  1.024866  0.962516  0.156058\n",
       "2 -1.152664 -1.491310 -0.139207\n",
       "3  0.111591 -1.218479 -0.864805\n",
       "4 -1.075349 -0.414345  0.869367"
      ]
     },
     "execution_count": 29,
     "metadata": {},
     "output_type": "execute_result"
    }
   ],
   "source": [
    "import numpy as np\n",
    "\n",
    "npdata = np.random.randn(5,3)  # create a 5 by 3 random matrix\n",
    "columnNames = ['x1','x2','x3']\n",
    "data = DataFrame(npdata, columns=columnNames)\n",
    "data"
   ]
  },
  {
   "cell_type": "markdown",
   "metadata": {},
   "source": [
    "There are many ways to access elements of a DataFrame object."
   ]
  },
  {
   "cell_type": "code",
   "execution_count": 30,
   "metadata": {},
   "outputs": [
    {
     "name": "stdout",
     "output_type": "stream",
     "text": [
      "0    0.142482\n",
      "1    0.962516\n",
      "2   -1.491310\n",
      "3   -1.218479\n",
      "4   -0.414345\n",
      "Name: x2, dtype: float64\n",
      "<class 'pandas.core.series.Series'>\n"
     ]
    }
   ],
   "source": [
    "# accessing an entire column will return a Series object\n",
    "\n",
    "print(data['x2'])\n",
    "print(type(data['x2']))"
   ]
  },
  {
   "cell_type": "code",
   "execution_count": 31,
   "metadata": {},
   "outputs": [
    {
     "name": "stdout",
     "output_type": "stream",
     "text": [
      "Row 3 of data table:\n",
      "x1   -1.152664\n",
      "x2   -1.491310\n",
      "x3   -0.139207\n",
      "Name: 2, dtype: float64\n",
      "<class 'pandas.core.series.Series'>\n",
      "\n",
      "Row 3 of car data table:\n",
      "make                  Toyota\n",
      "model                  Camry\n",
      "MSRP                   23495\n",
      "year                    2018\n",
      "dealership    Spartan Toyota\n",
      "Name: 3, dtype: object\n"
     ]
    }
   ],
   "source": [
    "# accessing an entire row will return a Series object\n",
    "\n",
    "print('Row 3 of data table:')\n",
    "print(data.iloc[2])       # returns the 3rd row of DataFrame\n",
    "print(type(data.iloc[2]))\n",
    "\n",
    "print('\\nRow 3 of car data table:')\n",
    "print(carData2.iloc[2])   # row contains objects of different types"
   ]
  },
  {
   "cell_type": "code",
   "execution_count": 32,
   "metadata": {},
   "outputs": [
    {
     "name": "stdout",
     "output_type": "stream",
     "text": [
      "carData2 =\n",
      "      make    model   MSRP  year      dealership\n",
      "1  Fordaa   Taurus  27595  2018   Courtesy Ford\n",
      "2   Honda   Accord  23570  2018   Capital Honda\n",
      "3  Toyota    Camry  23495  2018  Spartan Toyota\n",
      "4   Tesla  Model S  68000  2018             N/A\n",
      "\n",
      "carData2.iloc[1,2] = 23570\n",
      "carData2.loc[1,'model'] = Taurus\n",
      "\n",
      "carData2.iloc[1:3,1:3]=\n",
      "    model   MSRP\n",
      "2  Accord  23570\n",
      "3   Camry  23495\n"
     ]
    }
   ],
   "source": [
    "# accessing a specific element of the DataFrame\n",
    "\n",
    "print('carData2 =\\n', carData2)\n",
    "\n",
    "print('\\ncarData2.iloc[1,2] =', carData2.iloc[1,2])                # retrieving second row, third column\n",
    "print('carData2.loc[1,\\'model\\'] =', carData2.loc[1,'model'])    # retrieving second row, column named 'model'\n",
    "\n",
    "# accessing a slice of the DataFrame\n",
    "\n",
    "print('\\ncarData2.iloc[1:3,1:3]=')\n",
    "print(carData2.iloc[1:3,1:3])"
   ]
  },
  {
   "cell_type": "code",
   "execution_count": 33,
   "metadata": {},
   "outputs": [
    {
     "name": "stdout",
     "output_type": "stream",
     "text": [
      "carData2 =\n",
      "      make    model   MSRP  year      dealership\n",
      "1  Fordaa   Taurus  27595  2018   Courtesy Ford\n",
      "2   Honda   Accord  23570  2018   Capital Honda\n",
      "3  Toyota    Camry  23495  2018  Spartan Toyota\n",
      "4   Tesla  Model S  68000  2018             N/A \n",
      "\n",
      "carData2.shape = (4, 5)\n",
      "carData2.size = 20\n"
     ]
    }
   ],
   "source": [
    "print('carData2 =\\n', carData2, '\\n')\n",
    "\n",
    "print('carData2.shape =', carData2.shape)\n",
    "print('carData2.size =', carData2.size)"
   ]
  },
  {
   "cell_type": "code",
   "execution_count": 34,
   "metadata": {},
   "outputs": [
    {
     "name": "stdout",
     "output_type": "stream",
     "text": [
      "carData2 =\n",
      "      make    model   MSRP  year      dealership\n",
      "1  Fordaa   Taurus  27595  2018   Courtesy Ford\n",
      "2   Honda   Accord  23570  2018   Capital Honda\n",
      "3  Toyota    Camry  23495  2018  Spartan Toyota\n",
      "4   Tesla  Model S  68000  2018             N/A \n",
      "\n",
      "carData2[carData2.MSRP > 25000] =\n",
      "     make    model   MSRP  year     dealership\n",
      "1  Fordaa   Taurus  27595  2018  Courtesy Ford\n",
      "4   Tesla  Model S  68000  2018            N/A\n"
     ]
    }
   ],
   "source": [
    "# selection and filtering\n",
    "\n",
    "print('carData2 =\\n', carData2, '\\n')\n",
    "\n",
    "print('carData2[carData2.MSRP > 25000] =')  \n",
    "print(carData2[carData2.MSRP > 25000])"
   ]
  },
  {
   "cell_type": "markdown",
   "metadata": {},
   "source": [
    "### 2.2.3 Arithmetic Operations"
   ]
  },
  {
   "cell_type": "code",
   "execution_count": 35,
   "metadata": {},
   "outputs": [
    {
     "name": "stdout",
     "output_type": "stream",
     "text": [
      "         x1        x2        x3\n",
      "0  0.652543  0.142482 -0.883506\n",
      "1  1.024866  0.962516  0.156058\n",
      "2 -1.152664 -1.491310 -0.139207\n",
      "3  0.111591 -1.218479 -0.864805\n",
      "4 -1.075349 -0.414345  0.869367\n",
      "\n",
      "Data transpose operation: data.T\n",
      "           0         1         2         3         4\n",
      "x1  0.652543  1.024866 -1.152664  0.111591 -1.075349\n",
      "x2  0.142482  0.962516 -1.491310 -1.218479 -0.414345\n",
      "x3 -0.883506  0.156058 -0.139207 -0.864805  0.869367\n",
      "\n",
      "Addition: data + 4\n",
      "         x1        x2        x3\n",
      "0  4.652543  4.142482  3.116494\n",
      "1  5.024866  4.962516  4.156058\n",
      "2  2.847336  2.508690  3.860793\n",
      "3  4.111591  2.781521  3.135195\n",
      "4  2.924651  3.585655  4.869367\n",
      "\n",
      "Multiplication: data * 10\n",
      "          x1         x2        x3\n",
      "0   6.525425   1.424820 -8.835058\n",
      "1  10.248658   9.625156  1.560583\n",
      "2 -11.526636 -14.913096 -1.392067\n",
      "3   1.115907 -12.184794 -8.648046\n",
      "4 -10.753493  -4.143446  8.693669\n"
     ]
    }
   ],
   "source": [
    "print(data)\n",
    "\n",
    "print('\\nData transpose operation: data.T')\n",
    "print(data.T)    # transpose operation\n",
    "\n",
    "print('\\nAddition: data + 4')\n",
    "print(data + 4)    # addition operation\n",
    "\n",
    "print('\\nMultiplication: data * 10')\n",
    "print(data * 10)   # multiplication operation"
   ]
  },
  {
   "cell_type": "code",
   "execution_count": 36,
   "metadata": {},
   "outputs": [
    {
     "name": "stdout",
     "output_type": "stream",
     "text": [
      "data =\n",
      "          x1        x2        x3\n",
      "0  0.652543  0.142482 -0.883506\n",
      "1  1.024866  0.962516  0.156058\n",
      "2 -1.152664 -1.491310 -0.139207\n",
      "3  0.111591 -1.218479 -0.864805\n",
      "4 -1.075349 -0.414345  0.869367\n",
      "\n",
      "data2 =\n",
      "         x1        x2        x3\n",
      "0 -0.472884 -0.753414  0.948289\n",
      "1 -2.487431  1.064453 -1.756696\n",
      "2  1.569113 -0.182468  0.055619\n",
      "3 -0.298144 -0.639686 -0.125587\n",
      "4 -0.475532 -0.506965 -1.768074\n",
      "\n",
      "data + data2 = \n",
      "         x1        x2        x3\n",
      "0  0.179658 -0.610932  0.064783\n",
      "1 -1.462565  2.026969 -1.600638\n",
      "2  0.416449 -1.673777 -0.083588\n",
      "3 -0.186553 -1.858165 -0.990391\n",
      "4 -1.550882 -0.921310 -0.898707\n",
      "\n",
      "data * data2 = \n",
      "         x1        x2        x3\n",
      "0 -0.308577 -0.107348 -0.837819\n",
      "1 -2.549283  1.024553 -0.274147\n",
      "2 -1.808659  0.272116 -0.007743\n",
      "3 -0.033270  0.779444  0.108608\n",
      "4  0.511363  0.210058 -1.537105\n"
     ]
    }
   ],
   "source": [
    "print('data =\\n', data)\n",
    "\n",
    "columnNames = ['x1','x2','x3']\n",
    "data2 = DataFrame(np.random.randn(5,3), columns=columnNames)\n",
    "print('\\ndata2 =')\n",
    "print(data2)\n",
    "\n",
    "print('\\ndata + data2 = ')\n",
    "print(data.add(data2))\n",
    "\n",
    "print('\\ndata * data2 = ')\n",
    "print(data.mul(data2))"
   ]
  },
  {
   "cell_type": "code",
   "execution_count": 37,
   "metadata": {},
   "outputs": [
    {
     "name": "stdout",
     "output_type": "stream",
     "text": [
      "         x1        x2        x3\n",
      "0  0.652543  0.142482  0.883506\n",
      "1  1.024866  0.962516  0.156058\n",
      "2  1.152664  1.491310  0.139207\n",
      "3  0.111591  1.218479  0.864805\n",
      "4  1.075349  0.414345  0.869367\n",
      "\n",
      "Maximum value per column:\n",
      "x1    1.024866\n",
      "x2    0.962516\n",
      "x3    0.869367\n",
      "dtype: float64\n",
      "\n",
      "Minimum value per row:\n",
      "0   -0.883506\n",
      "1    0.156058\n",
      "2   -1.491310\n",
      "3   -1.218479\n",
      "4   -1.075349\n",
      "dtype: float64\n",
      "\n",
      "Sum of values per column:\n",
      "x1   -0.439014\n",
      "x2   -2.019136\n",
      "x3   -0.862092\n",
      "dtype: float64\n",
      "\n",
      "Average value per row:\n",
      "0   -0.029494\n",
      "1    0.714480\n",
      "2   -0.927727\n",
      "3   -0.657231\n",
      "4   -0.206776\n",
      "dtype: float64\n",
      "\n",
      "Calculate max - min per column\n",
      "x1    2.177529\n",
      "x2    2.453825\n",
      "x3    1.752873\n",
      "dtype: float64\n",
      "\n",
      "Calculate max - min per row\n",
      "0    1.536048\n",
      "1    0.868807\n",
      "2    1.352103\n",
      "3    1.330070\n",
      "4    1.944716\n",
      "dtype: float64\n"
     ]
    }
   ],
   "source": [
    "print(data.abs())    # get the absolute value for each element\n",
    "\n",
    "print('\\nMaximum value per column:')\n",
    "print(data.max())    # get maximum value for each column\n",
    "\n",
    "print('\\nMinimum value per row:')\n",
    "print(data.min(axis=1))    # get minimum value for each row\n",
    "\n",
    "print('\\nSum of values per column:')\n",
    "print(data.sum())    # get sum of values for each column\n",
    "\n",
    "print('\\nAverage value per row:')\n",
    "print(data.mean(axis=1))    # get average value for each row\n",
    "\n",
    "print('\\nCalculate max - min per column')\n",
    "f = lambda x: x.max() - x.min()\n",
    "print(data.apply(f))\n",
    "\n",
    "print('\\nCalculate max - min per row')\n",
    "f = lambda x: x.max() - x.min()\n",
    "print(data.apply(f, axis=1))"
   ]
  },
  {
   "cell_type": "markdown",
   "metadata": {},
   "source": [
    "The value_counts() function can also be applied to a pandas DataFrame"
   ]
  },
  {
   "cell_type": "code",
   "execution_count": 38,
   "metadata": {},
   "outputs": [
    {
     "name": "stdout",
     "output_type": "stream",
     "text": [
      "shapeData =\n",
      "        shape color\n",
      "0     circle   red\n",
      "1     square   red\n",
      "2     square   red\n",
      "3     square  blue\n",
      "4     circle  blue\n",
      "5  rectangle  blue \n",
      "\n",
      "shapeData.value_counts() =\n",
      " shape      color\n",
      "circle     blue     1\n",
      "           red      1\n",
      "rectangle  blue     1\n",
      "square     blue     1\n",
      "           red      2\n",
      "dtype: int64\n"
     ]
    }
   ],
   "source": [
    "objects = {'shape': ['circle', 'square', 'square', 'square', 'circle', 'rectangle'],\n",
    "           'color': ['red', 'red', 'red', 'blue', 'blue', 'blue']}\n",
    "\n",
    "shapeData = DataFrame(objects)\n",
    "print('shapeData =\\n', shapeData, '\\n')\n",
    "\n",
    "print('shapeData.value_counts() =\\n', shapeData.value_counts().sort_values())"
   ]
  },
  {
   "cell_type": "markdown",
   "metadata": {},
   "source": [
    "### 2.2.4 Plotting Series and DataFrame\n",
    "\n",
    "There are many built-in functions available to plot the data stored in a Series or a DataFrame.\n",
    "\n",
    "**(a)** Line plot"
   ]
  },
  {
   "cell_type": "code",
   "execution_count": 39,
   "metadata": {},
   "outputs": [
    {
     "data": {
      "text/plain": [
       "<AxesSubplot:title={'center':'Line plot'}>"
      ]
     },
     "execution_count": 39,
     "metadata": {},
     "output_type": "execute_result"
    },
    {
     "data": {
      "image/png": "[encoded data removed]",
      "text/plain": [
       "<Figure size 432x288 with 1 Axes>"
      ]
     },
     "metadata": {
      "needs_background": "light"
     },
     "output_type": "display_data"
    }
   ],
   "source": [
    "%matplotlib inline\n",
    "\n",
    "s3 = Series([1.2,2.5,-2.2,3.1,-0.8,-3.2,1.4], \n",
    "            index = ['Jan 1','Jan 2','Jan 3','Jan 4','Jan 5','Jan 6','Jan 7'])\n",
    "s3.plot(kind='line', title='Line plot')"
   ]
  },
  {
   "cell_type": "markdown",
   "metadata": {},
   "source": [
    "**(b)** Bar plot"
   ]
  },
  {
   "cell_type": "code",
   "execution_count": 40,
   "metadata": {},
   "outputs": [
    {
     "data": {
      "text/plain": [
       "<AxesSubplot:title={'center':'Bar plot'}>"
      ]
     },
     "execution_count": 40,
     "metadata": {},
     "output_type": "execute_result"
    },
    {
     "data": {
      "image/png": "[encoded data removed]",
      "text/plain": [
       "<Figure size 432x288 with 1 Axes>"
      ]
     },
     "metadata": {
      "needs_background": "light"
     },
     "output_type": "display_data"
    }
   ],
   "source": [
    "s3.plot(kind='bar', title='Bar plot')"
   ]
  },
  {
   "cell_type": "markdown",
   "metadata": {},
   "source": [
    "**(c)** Histogram"
   ]
  },
  {
   "cell_type": "code",
   "execution_count": 41,
   "metadata": {},
   "outputs": [
    {
     "data": {
      "text/plain": [
       "<AxesSubplot:title={'center':'Histogram'}, ylabel='Frequency'>"
      ]
     },
     "execution_count": 41,
     "metadata": {},
     "output_type": "execute_result"
    },
    {
     "data": {
      "image/png": "[encoded data removed]",
      "text/plain": [
       "<Figure size 432x288 with 1 Axes>"
      ]
     },
     "metadata": {
      "needs_background": "light"
     },
     "output_type": "display_data"
    }
   ],
   "source": [
    "s3.plot(kind='hist', title = 'Histogram')"
   ]
  },
  {
   "cell_type": "markdown",
   "metadata": {},
   "source": [
    "**(d)** Box plot"
   ]
  },
  {
   "cell_type": "code",
   "execution_count": 42,
   "metadata": {},
   "outputs": [
    {
     "data": {
      "text/plain": [
       "<AxesSubplot:title={'center':'Box plot'}>"
      ]
     },
     "execution_count": 42,
     "metadata": {},
     "output_type": "execute_result"
    },
    {
     "data": {
      "image/png": "[encoded data removed]",
      "text/plain": [
       "<Figure size 432x288 with 1 Axes>"
      ]
     },
     "metadata": {
      "needs_background": "light"
     },
     "output_type": "display_data"
    }
   ],
   "source": [
    "tuplelist = [(2011,45.1,32.4),(2012,42.4,34.5),(2013,47.2,39.2),\n",
    "              (2014,44.2,31.4),(2015,39.9,29.8),(2016,41.5,36.7)]\n",
    "columnNames = ['year','temp','precip']\n",
    "weatherData = DataFrame(tuplelist, columns=columnNames)\n",
    "weatherData[['temp','precip']].plot(kind='box', title='Box plot')"
   ]
  },
  {
   "cell_type": "markdown",
   "metadata": {},
   "source": [
    "**(e)** Scatter plot "
   ]
  },
  {
   "cell_type": "code",
   "execution_count": 44,
   "metadata": {},
   "outputs": [
    {
     "name": "stdout",
     "output_type": "stream",
     "text": [
      "weatherData =\n",
      "    year  temp  precip\n",
      "0  2011  45.1    32.4\n",
      "1  2012  42.4    34.5\n",
      "2  2013  47.2    39.2\n",
      "3  2014  44.2    31.4\n",
      "4  2015  39.9    29.8\n",
      "5  2016  41.5    36.7\n"
     ]
    },
    {
     "data": {
      "text/plain": [
       "<AxesSubplot:xlabel='temp', ylabel='precip'>"
      ]
     },
     "execution_count": 44,
     "metadata": {},
     "output_type": "execute_result"
    },
    {
     "data": {
      "image/png": "[encoded data removed]",
      "text/plain": [
       "<Figure size 432x288 with 1 Axes>"
      ]
     },
     "metadata": {
      "needs_background": "light"
     },
     "output_type": "display_data"
    }
   ],
   "source": [
    "print('weatherData =\\n', weatherData)\n",
    "\n",
    "weatherData.plot(kind='scatter', x='temp', y='precip')"
   ]
  },
  {
   "cell_type": "code",
   "execution_count": null,
   "metadata": {},
   "outputs": [],
   "source": []
  }
 ],
 "metadata": {
  "kernelspec": {
   "display_name": "Python 3",
   "language": "python",
   "name": "python3"
  },
  "language_info": {
   "codemirror_mode": {
    "name": "ipython",
    "version": 3
   },
   "file_extension": ".py",
   "mimetype": "text/x-python",
   "name": "python",
   "nbconvert_exporter": "python",
   "pygments_lexer": "ipython3",
   "version": "3.9.6"
  },
  "vscode": {
   "interpreter": {
    "hash": "31f2aee4e71d21fbe5cf8b01ff0e069b9275f58929596ceb00d14d90e3e16cd6"
   }
  }
 },
 "nbformat": 4,
 "nbformat_minor": 2
}
